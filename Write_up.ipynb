{
 "cells": [
  {
   "cell_type": "code",
   "execution_count": 1,
   "metadata": {
    "collapsed": false
   },
   "outputs": [],
   "source": [
    "from IPython.display import Image\n",
    "from IPython.core.display import HTML \n",
    "\n"
   ]
  },
  {
   "cell_type": "markdown",
   "metadata": {},
   "source": [
    "# Titanic Data"
   ]
  },
  {
   "cell_type": "markdown",
   "metadata": {},
   "source": [
    "Raw Data Set (head):"
   ]
  },
  {
   "cell_type": "markdown",
   "metadata": {},
   "source": [
    "<img src=\"titanic_data_head.png\">\n"
   ]
  },
  {
   "cell_type": "markdown",
   "metadata": {},
   "source": [
    "# Description of Fields"
   ]
  },
  {
   "cell_type": "markdown",
   "metadata": {},
   "source": [
    "\n",
    "    1. PassengerID: unique indentifier for each passenger\n",
    "    2. Survived: 1 = Yes, 2 = No\n",
    "    3. Pclass: 1 = 1st Class, 2 = 2nd Class, 3 = 3rd Class\n",
    "    4. Name: Passenger Name\n",
    "    5. Sex = male/female\n",
    "    6. Age: Passenger Age, N.B. a number of missing entries, some also estimated (if > 1 & xx.5)\n",
    "    7. SibSp: Number of Siblings/ Spouses Aboard\n",
    "    8. Parch: Number of Parents/Children Aboard\n",
    "    9. Ticket: Ticket number     10. Fare: Ticket Price\n",
    "    11. Cabin: Cabin\n",
    "    12. Embarked: Port of Embarkation (C = Cherbourg; Q = Queenstown; S = Southampton)"
   ]
  },
  {
   "cell_type": "markdown",
   "metadata": {},
   "source": [
    "# Data Notes & Data Wrangling"
   ]
  },
  {
   "cell_type": "markdown",
   "metadata": {},
   "source": [
    "    \n",
    "    1. There is missing data for the 'Age' field - this should not be a large problem since all missing variable are    NaN, these values are automatically dealt with when using pandas for analysis (not taken into account)\n",
    "    2. I want to look at basic correlations for an initial investigation of correlations therefore I will add a 'Male' and 'Female' column that use 1 & 0\n",
    "    3. Overall the data looks of high quality  \n",
    "    "
   ]
  },
  {
   "cell_type": "markdown",
   "metadata": {},
   "source": [
    "# Some Basic Stats about the data:"
   ]
  },
  {
   "cell_type": "markdown",
   "metadata": {},
   "source": [
    "Total Passengers: 891, 100%\n",
    "\n",
    "Total Survived: 342, 38%\n",
    "\n",
    "Total Died: 549, 62%\n",
    "\n",
    "Average Age: 29.7\n",
    "\n",
    "Average Fare: 32.2\n",
    "\n",
    "1st Class Passengers: 216, 24% \n",
    "\n",
    "2nd Class Passengers: 184, 21%\n",
    "\n",
    "3rd Class Passengers: 491, 55%"
   ]
  },
  {
   "cell_type": "markdown",
   "metadata": {},
   "source": [
    "## Goals\n",
    "\n",
    "The goal of this investigation is to determine which factors were likely to determine the chance of survival on the Titanic.\n",
    "\n",
    "## Approach\n",
    "\n",
    "First correlations of relevant variables & Survival rate will be investigated. After this I will dig deeper in several promising categories to determine if the correlation suggested in the first part is 'real' or simply a quirk of the dataset.    "
   ]
  },
  {
   "cell_type": "markdown",
   "metadata": {},
   "source": [
    "# Correlation with Survived:"
   ]
  },
  {
   "cell_type": "markdown",
   "metadata": {},
   "source": [
    "<img src=\"Correlations.png\">"
   ]
  },
  {
   "cell_type": "markdown",
   "metadata": {},
   "source": [
    "The above graph shows each (applicable) field's correlation with the 'Survived' field. This will need to be interpreted field by field since each one will have a different implication. \n",
    "\n",
    "1. PassengerID: has a correlation of almost 0, this shows there is no relationship with the PassengerID and the chance of survival. This was expected and a link will not be investigated any further.\n",
    "\n",
    "2. Survived: Perfectly correlated as it is checking against itself.\n",
    "\n",
    "3. PClass: PClass is negtively correlated (-0.338481), this shows that as Survival rates go up so does the the Passenger Class. Implying that Higher Class passengers have a higher chance of survival. This warants further inspection.\n",
    "\n",
    "4. Age: Age has a weak negative correlation (-0.077221) suggesting that Age and Survival are not very dependent on one or the other. However it may still be worth investigating Age since this correlation does not capture the theory that children were put onto lifeboats first very well, therefore this calls for further investigation\n",
    "\n",
    "5. SibSp: weakly negatively correlated, will not be investigating further\n",
    "\n",
    "6. Parch: weak positive correlation, this correlation does not catch the nuances of this data set, it is worth investigating futher(e.g. do parents have a higher chance of survival than non parents)\n",
    "\n",
    "7. Male/Female: This provides the most obvious correlations showing that males are negatively correlated with survival and females are positively correlated. This should be investigated further.\n",
    "\n",
    "Research Questions:\n",
    "\n",
    "1. Does the PClass of a passenger influence the chance of survival?\n",
    "2. Does the Gender of a passenger influence the chance of survival?\n",
    "3. Are Adults more likely to survice the Titanic than children?"
   ]
  },
  {
   "cell_type": "markdown",
   "metadata": {},
   "source": [
    "# PClass - A deeper investigation"
   ]
  },
  {
   "cell_type": "markdown",
   "metadata": {},
   "source": [
    "<img src=\"Pclass_comparison.png\">"
   ]
  },
  {
   "cell_type": "markdown",
   "metadata": {},
   "source": [
    "The above table shows that there are large differences between each class in survival rate which drops in a fairly linear fashion with each Class downgrade. To see if there are any other variables that may be influencing the result (causation wise)"
   ]
  },
  {
   "cell_type": "markdown",
   "metadata": {},
   "source": [
    "<img src=\"Groupby_Pclass_Means.png\">"
   ]
  },
  {
   "cell_type": "markdown",
   "metadata": {},
   "source": [
    "The above table shows the means of each field for each Class:\n",
    "\n",
    "1. The concerning figure here is the high ratios of Males to Females in 3rd Class, this may be skew results. \n",
    "\n",
    "2. Age would also be a concerning figure however it is counter intuitive since it was previously found that age is negatively correlated with Survival rate - this leads me to cement my view that age should be investigated further (Since Pclass may by skewing the correlation figure for Age unfairly).\n",
    "\n",
    "3. The differences in Fare are expected since Passengers of a higher Class are expected to pay a higher Fare - this doesnot affect any conclusions made"
   ]
  },
  {
   "cell_type": "markdown",
   "metadata": {},
   "source": [
    "<img src=\"Groupby_Pclass_Sex.png\">"
   ]
  },
  {
   "cell_type": "markdown",
   "metadata": {
    "collapsed": true
   },
   "source": [
    "The above graph can provide several insights into the data:\n",
    "\n",
    "1. Even when controling for gender we see a reduction in survival rates as Class decreases \n",
    "2. The graph shows an interesting quirk in the data. Females in Class 1 & 2 have a very high survival rate with a sudden drop in Class 3, in males however a large drop occurs from Class 1 to 2 and is very small from 2 to 3. This suggests to me that the higher survival rate is less likely to be infulenced due to circumstancial factors such as Class 1 being near a lifeboat station and more likely to be influenced by behavioural factors that are affected by both gender & socio-economic status.\n",
    "3. The graph also shows clearly the gender divide when controling for Pclass. "
   ]
  },
  {
   "cell_type": "markdown",
   "metadata": {},
   "source": [
    "\n",
    "It is likely from the data analytics that PClass had an effect on survival rates since the pattern is maintained for both men and women."
   ]
  },
  {
   "cell_type": "markdown",
   "metadata": {},
   "source": [
    "# Sex - A deeper investigation"
   ]
  },
  {
   "cell_type": "markdown",
   "metadata": {},
   "source": [
    "<img src=\"Groupby_Sex_Mean.png\">"
   ]
  },
  {
   "cell_type": "markdown",
   "metadata": {},
   "source": [
    "The above tabel shows the means for Males/Females accross each category with a clear difference in survival rates (as expected from the initial analysis. Other things this table tells us:\n",
    "\n",
    "1. Men on average had a lower PClass, this will have influenced the survival rates somewhat however from the line chart in the previous section it can be seen this only plays a partial role in the effect. \n",
    "2. Men are slightly older on average - this may play a role however mean is not a very good indicator here - it would be better to look at distribution \n",
    "3. SibSp had a very weak correlation with survival rate therefore the higher rate for women is not likely to be too influencial\n",
    "4. There is a large difference in mean Parch - This should be investigated further\n",
    "5. The result for Fare is expected since a higher proportion of females than males occupy Class 1 & 2"
   ]
  },
  {
   "cell_type": "markdown",
   "metadata": {},
   "source": [
    "## Age - A deeper investigation"
   ]
  },
  {
   "cell_type": "markdown",
   "metadata": {},
   "source": [
    "It is not appropriate to use Age as a continous scale when performing analysis since I expect that a 29 year old will have little difference from a 42 year old in their chance of survival. For this reason I have split Age into nominal categories: Adult (>18) and Child (<= 18), I expect from this that we will see a larger survival rate of children than adults. \n",
    "\n",
    "I have also separated out the data into groups so I can perform a more focused analysis, please see the table below:"
   ]
  },
  {
   "cell_type": "markdown",
   "metadata": {},
   "source": [
    "<img src=\"groups_df.png\">"
   ]
  },
  {
   "cell_type": "markdown",
   "metadata": {},
   "source": [
    "Using this data we can more easily look at the effect of each factor without having noise from other factors effect the data. The field 'Survived' describes the mean of each group."
   ]
  },
  {
   "cell_type": "markdown",
   "metadata": {},
   "source": [
    "<img src=\"groupby_sex_hue_age.png\">"
   ]
  },
  {
   "cell_type": "markdown",
   "metadata": {},
   "source": [
    "The above chart compares the mean of means for Male/Female and Adult/Child groups, the effect of Pclass can be discounted since as we are taking the means of each group the distribution skews will not come into play."
   ]
  },
  {
   "cell_type": "markdown",
   "metadata": {},
   "source": [
    "We can see from the chart that survival rates are much higher for Children than Adults in Males however the effect is very small for Females. "
   ]
  },
  {
   "cell_type": "markdown",
   "metadata": {
    "collapsed": true
   },
   "source": [
    "## Conclusion"
   ]
  },
  {
   "cell_type": "markdown",
   "metadata": {
    "collapsed": true
   },
   "source": [
    "1. Does the PClass of a passenger influence the chance of survival?\n",
    "\n",
    "Yes, Higher class passengers are more likely to survive than lower class passengers. \n",
    "\n",
    "2. Does the Gender of a passenger influence the chance of survival?\n",
    "\n",
    "Yes, Women are more likely to survive than Men.\n",
    "\n",
    "3. Are Children more likely to survice the Titanic than Adults?\n",
    "\n",
    "Yes, this has been shown to be true even when controlling for quirks in distribution.  \n"
   ]
  },
  {
   "cell_type": "code",
   "execution_count": null,
   "metadata": {
    "collapsed": true
   },
   "outputs": [],
   "source": []
  }
 ],
 "metadata": {
  "anaconda-cloud": {},
  "kernelspec": {
   "display_name": "Python [Python2]",
   "language": "python",
   "name": "Python [Python2]"
  },
  "language_info": {
   "codemirror_mode": {
    "name": "ipython",
    "version": 2
   },
   "file_extension": ".py",
   "mimetype": "text/x-python",
   "name": "python",
   "nbconvert_exporter": "python",
   "pygments_lexer": "ipython2",
   "version": "2.7.12"
  }
 },
 "nbformat": 4,
 "nbformat_minor": 0
}
